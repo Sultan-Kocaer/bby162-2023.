{
  "nbformat": 4,
  "nbformat_minor": 0,
  "metadata": {
    "colab": {
      "provenance": [],
      "authorship_tag": "ABX9TyPcLI84beXaxaELEe6Y1hv/",
      "include_colab_link": true
    },
    "kernelspec": {
      "name": "python3",
      "display_name": "Python 3"
    },
    "language_info": {
      "name": "python"
    }
  },
  "cells": [
    {
      "cell_type": "markdown",
      "metadata": {
        "id": "view-in-github",
        "colab_type": "text"
      },
      "source": [
        "<a href=\"https://colab.research.google.com/github/Sultan-Kocaer/bby162-2023./blob/main/proje02.ipynb\" target=\"_parent\"><img src=\"https://colab.research.google.com/assets/colab-badge.svg\" alt=\"Open In Colab\"/></a>"
      ]
    },
    {
      "cell_type": "code",
      "execution_count": null,
      "metadata": {
        "id": "TpCCGs1tC9jq"
      },
      "outputs": [],
      "source": [
        "kelimeler = [\"dergi\", \"yolculuk\", \"tren\", \"vapur\"]\n",
        "\n",
        "def adam_asmaca():\n",
        "  canlar = {\"basit\": 5, \"orta\": 3, \"ileri\": 1}\n",
        "  while True:\n",
        "    seviye = input(\"oynamak istediğiniz seviyeyi seçiniz (basit, orta, ileri): \")\n",
        "    if seviye in canlar:\n",
        "      adamCan = canlar[seviye]\n",
        "      break\n",
        "    else: \n",
        "      print(\"Geçersiz seviye! Lütfen tekrar deneyin.\")\n",
        "\n",
        "  Kategori = random.choice(kelimler)\n",
        "  secilenKelime = random.choice(kelimeler)\n",
        "  dizilenKelime = [\"_\" for harf in secilenKelime]\n",
        "\n",
        "  print(\"Kategori: \", kategori)\n",
        "  print(\"İpucu: Kelimenin uzunluğu\", len(secilenKelime))\n",
        "  print(dizilenKelime)\n",
        "\n",
        "  while adamCan > 0:\n",
        "    girilenHarf = input (\"Bir harf giriniz: \").lower()\n",
        "    if girilenHarf in secilenKelime:\n",
        "      for i in range(len(secilenKelime)):\n",
        "        if secilenKelime[i] == girilenHarf:\n",
        "            dizilenKelime[i] == girilenHarf\n",
        "      if \"_\" not in dizilenKelime:\n",
        "        print(\"Tebrikler! Kelimeyi doğru tahmin ettiniz.\")\n",
        "      \n",
        "    \n",
        "    else:\n",
        "       adamCan -= 1\n",
        "       print(\"Yanlış tahmin! Kalan can:\", adamCan)\n",
        "\n",
        "    print(dizilenKelime)\n",
        "\n",
        "  if adamCan == 0:\n",
        "   print(\"Maalesef, canlarınız tükendi. Doğru kelime:\", secilenKelime)\n",
        "\n",
        "  yenidenOyna = input(\"Tekrar oynamak istiyor musunuz? (E/H)\").lower()\n",
        "  if yenidenOyna == \"e\":\n",
        "     adam_asmaca()\n",
        "  else: \n",
        "    print(\"Oynadığınız için teşekkürler!\")\n",
        "\n",
        "adam_asmaca()"
      ]
    }
  ]
}