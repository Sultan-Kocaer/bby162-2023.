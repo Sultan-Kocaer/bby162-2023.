{
  "nbformat": 4,
  "nbformat_minor": 0,
  "metadata": {
    "colab": {
      "provenance": [],
      "authorship_tag": "ABX9TyONQ+1Du2A8Xv9RA3pwCGN6",
      "include_colab_link": true
    },
    "kernelspec": {
      "name": "python3",
      "display_name": "Python 3"
    },
    "language_info": {
      "name": "python"
    }
  },
  "cells": [
    {
      "cell_type": "markdown",
      "metadata": {
        "id": "view-in-github",
        "colab_type": "text"
      },
      "source": [
        "<a href=\"https://colab.research.google.com/github/Sultan-Kocaer/bby162-2023./blob/main/Proje01.ipynb\" target=\"_parent\"><img src=\"https://colab.research.google.com/assets/colab-badge.svg\" alt=\"Open In Colab\"/></a>"
      ]
    },
    {
      "cell_type": "code",
      "execution_count": 11,
      "metadata": {
        "colab": {
          "base_uri": "https://localhost:8080/"
        },
        "id": "Ba7b19ezljcc",
        "outputId": "6ad63aa4-9f33-49b0-8e8a-7fdacfe7740a"
      },
      "outputs": [
        {
          "output_type": "stream",
          "name": "stdout",
          "text": [
            "['alışverişe git', 'malzeme al', 'fatura öde', 'otobüse bin', 'eve gel']\n",
            "['alışverişe git', 'malzeme al', 'fatura öde', 'otobüse bin', 'eve gel', 'petshopa uğra', 'kuş yemi al']\n",
            "['fatura öde', 'otobüse bin', 'eve gel', 'petshopa uğra', 'kuş yemi al']\n",
            "[]\n"
          ]
        }
      ],
      "source": [
        "#Yapılacak İşler Listesi\n",
        "İşler = [\"alışverişe git\", \"malzeme al\", \"fatura öde\", \"otobüse bin\", \"eve gel\"]\n",
        "print(İşler)\n",
        "\n",
        "#Unutma\n",
        "İşler += [\"petshopa uğra\", \"kuş yemi al\"]\n",
        "print(İşler)\n",
        "\n",
        "#Yapılan İşleri sil\n",
        "İşler[:2] = []\n",
        "print(İşler)\n",
        "\n",
        "#Hepsi yapıldığında listeyi sil\n",
        "İşler[:] = []\n",
        "print(İşler)\n"
      ]
    }
  ]
}